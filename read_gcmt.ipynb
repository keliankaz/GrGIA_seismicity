{
 "cells": [
  {
   "cell_type": "code",
   "execution_count": 1,
   "metadata": {},
   "outputs": [],
   "source": [
    "import numpy as np\n",
    "import obspy\n",
    "import pandas as pd"
   ]
  },
  {
   "cell_type": "code",
   "execution_count": null,
   "metadata": {},
   "outputs": [
    {
     "ename": "SyntaxError",
     "evalue": "can't use starred expression here (545789801.py, line 3)",
     "output_type": "error",
     "traceback": [
      "\u001b[0;36m  Cell \u001b[0;32mIn[16], line 3\u001b[0;36m\u001b[0m\n\u001b[0;31m    *[[x,y] for x,y in zip(a[:n], a[n:])]\u001b[0m\n\u001b[0m    ^\u001b[0m\n\u001b[0;31mSyntaxError\u001b[0m\u001b[0;31m:\u001b[0m can't use starred expression here\n"
     ]
    }
   ],
   "source": [
    "a = [1,2,3,4]\n",
    "n=2\n",
    "[[x,y] for x,y in zip(a[:n], a[n:])]"
   ]
  },
  {
   "cell_type": "code",
   "execution_count": 2,
   "metadata": {},
   "outputs": [],
   "source": [
    "cat = obspy.read_events(\"https://www.ldeo.columbia.edu/~gcmt/projects/CMT/catalog/jan76_dec20.ndk\") # takes ~1 minute with good internet connection"
   ]
  },
  {
   "cell_type": "code",
   "execution_count": 10,
   "metadata": {},
   "outputs": [],
   "source": [
    "file_name = 'data/gcmt.csv'\n",
    "f = open(file_name,'w')\n",
    "f.write('time,lat,lon,depth,M,t_azimuth,t_plunge,p_azimuth,p_plunge,n1_strike,n1_dip,n1_rake,n2_strike,n2_dip,n2_rake,\\n')\n",
    "for event in cat:\n",
    "    longID  = event.resource_id.id\n",
    "    ID      = longID.split(\"eventid=\",1)[0]\n",
    "\n",
    "    loc     = event.preferred_origin()\n",
    "    lat     = loc.latitude\n",
    "    lon     = loc.longitude\n",
    "    dep     = loc.depth\n",
    "    tim     = loc.time.matplotlib_date\n",
    "    mag     = event.preferred_magnitude().mag\n",
    "\n",
    "    fms     = event.preferred_focal_mechanism()\n",
    "    t_azimuth = fms.principal_axes.t_axis.azimuth\n",
    "    t_plunge  = fms.principal_axes.t_axis.azimuth\n",
    "    p_azimuth = fms.principal_axes.p_axis.azimuth\n",
    "    p_plunge  = fms.principal_axes.p_axis.azimuth\n",
    "\n",
    "    n1_strike = fms.nodal_planes.nodal_plane_1.strike\n",
    "    n1_dip = fms.nodal_planes.nodal_plane_1.dip\n",
    "    n1_rake = fms.nodal_planes.nodal_plane_1.rake\n",
    "    n2_strike = fms.nodal_planes.nodal_plane_2.strike\n",
    "    n2_dip = fms.nodal_planes.nodal_plane_2.dip\n",
    "    n2_rake = fms.nodal_planes.nodal_plane_2.rake\n",
    "\n",
    "    f.write(\n",
    "        '{}, {}, {}, {}, {}, {}, {}, {}, {}, {}, {}, {}, {}, {}, {}\\n'.format(\n",
    "            tim,\n",
    "            lat,\n",
    "            lon,\n",
    "            dep,\n",
    "            mag,\n",
    "            t_azimuth, \n",
    "            t_plunge,  \n",
    "            p_azimuth, \n",
    "            p_plunge,\n",
    "            n1_strike,\n",
    "            n1_dip,\n",
    "            n1_rake,\n",
    "            n2_strike,\n",
    "            n2_dip,\n",
    "            n2_rake,\n",
    "        )\n",
    "    )\n",
    "\n",
    "f.close()"
   ]
  },
  {
   "cell_type": "code",
   "execution_count": 8,
   "metadata": {},
   "outputs": [
    {
     "data": {
      "text/plain": [
       "FocalMechanism\n",
       "\t    resource_id: ResourceIdentifier(id=\"smi:local/ndk/C202012312312A/focal_mechanism\")\n",
       "\t   nodal_planes: NodalPlanes(nodal_plane_1=NodalPlane(strike=95.0, dip=71.0, rake=8.0), nodal_plane_2=NodalPlane(strike=3.0, dip=83.0, rake=161.0))\n",
       "\t principal_axes: PrincipalAxes(t_axis=Axis(azimuth=318.0, plunge=19.0, length=3.425e+16), p_axis=Axis(azimuth=50.0, plunge=8.0, length=-3.398e+16), n_axis=Axis(azimuth=162.0, plunge=70.0, length=-270000000000000.0))\n",
       "\t  moment_tensor: MomentTensor(resource_id=ResourceIdentifier(id=\"smi:local/ndk/C202012312312A/momenttensor\"), derived_origin_id=ResourceIdentifier(id=\"smi:local/ndk/C202012312312A/origin#cmtorigin\"), scalar_moment=3.411e+16, tensor=Tensor(m_rr=2620000000000000.0 [uncertainty=1520000000000000.0], m_tt=3190000000000000.0 [uncertainty=1970000000000000.0], m_pp=-5810000000000000.0 [uncertainty=1840000000000000.0], m_rt=4830000000000000.0 [uncertainty=1230000000000000.0], m_rp=1.05e+16 [uncertainty=1020000000000000.0], m_tp=3.17e+16 [uncertainty=1470000000000000.0]), source_time_function=SourceTimeFunction(type='triangle', duration=1.4), inversion_type='zero trace', creation_info=CreationInfo(agency_id='GCMT', version='V10'))\n",
       "\t  creation_info: CreationInfo(agency_id='GCMT', version='V10')\n",
       "\t           ---------\n",
       "\t       comments: 2 Elements"
      ]
     },
     "execution_count": 8,
     "metadata": {},
     "output_type": "execute_result"
    }
   ],
   "source": [
    "event.preferred_focal_mechanism()"
   ]
  },
  {
   "cell_type": "code",
   "execution_count": 4,
   "metadata": {},
   "outputs": [
    {
     "name": "stderr",
     "output_type": "stream",
     "text": [
      "/var/folders/nl/dmjw3blj27nd4c04v3dxnqw40000gn/T/ipykernel_30365/2388357416.py:1: ParserWarning: Length of header or names does not match length of data. This leads to a loss of data with index_col=False.\n",
      "  df = pd.read_csv(\"data/gcmt.csv\",sep=',', index_col=False)\n"
     ]
    },
    {
     "data": {
      "text/html": [
       "<div>\n",
       "<style scoped>\n",
       "    .dataframe tbody tr th:only-of-type {\n",
       "        vertical-align: middle;\n",
       "    }\n",
       "\n",
       "    .dataframe tbody tr th {\n",
       "        vertical-align: top;\n",
       "    }\n",
       "\n",
       "    .dataframe thead th {\n",
       "        text-align: right;\n",
       "    }\n",
       "</style>\n",
       "<table border=\"1\" class=\"dataframe\">\n",
       "  <thead>\n",
       "    <tr style=\"text-align: right;\">\n",
       "      <th></th>\n",
       "      <th>time</th>\n",
       "      <th>lat</th>\n",
       "      <th>lon</th>\n",
       "      <th>depth</th>\n",
       "      <th>M</th>\n",
       "      <th>t_azimuth</th>\n",
       "      <th>t_plunge</th>\n",
       "      <th>p_azimuth</th>\n",
       "      <th>p_plunge</th>\n",
       "    </tr>\n",
       "  </thead>\n",
       "  <tbody>\n",
       "    <tr>\n",
       "      <th>0</th>\n",
       "      <td>2191.062424</td>\n",
       "      <td>-29.25</td>\n",
       "      <td>-176.96</td>\n",
       "      <td>47800.0</td>\n",
       "      <td>7.25</td>\n",
       "      <td>283.0</td>\n",
       "      <td>283.0</td>\n",
       "      <td>110.0</td>\n",
       "      <td>110.0</td>\n",
       "    </tr>\n",
       "    <tr>\n",
       "      <th>1</th>\n",
       "      <td>2195.105378</td>\n",
       "      <td>-13.42</td>\n",
       "      <td>-75.14</td>\n",
       "      <td>85400.0</td>\n",
       "      <td>5.65</td>\n",
       "      <td>238.0</td>\n",
       "      <td>238.0</td>\n",
       "      <td>20.0</td>\n",
       "      <td>20.0</td>\n",
       "    </tr>\n",
       "    <tr>\n",
       "      <th>2</th>\n",
       "      <td>2196.880846</td>\n",
       "      <td>51.45</td>\n",
       "      <td>159.50</td>\n",
       "      <td>15000.0</td>\n",
       "      <td>6.13</td>\n",
       "      <td>315.0</td>\n",
       "      <td>315.0</td>\n",
       "      <td>126.0</td>\n",
       "      <td>126.0</td>\n",
       "    </tr>\n",
       "    <tr>\n",
       "      <th>3</th>\n",
       "      <td>2199.996297</td>\n",
       "      <td>-15.97</td>\n",
       "      <td>167.81</td>\n",
       "      <td>173700.0</td>\n",
       "      <td>6.31</td>\n",
       "      <td>153.0</td>\n",
       "      <td>153.0</td>\n",
       "      <td>329.0</td>\n",
       "      <td>329.0</td>\n",
       "    </tr>\n",
       "    <tr>\n",
       "      <th>4</th>\n",
       "      <td>2203.562094</td>\n",
       "      <td>66.33</td>\n",
       "      <td>-16.29</td>\n",
       "      <td>15000.0</td>\n",
       "      <td>6.28</td>\n",
       "      <td>82.0</td>\n",
       "      <td>82.0</td>\n",
       "      <td>352.0</td>\n",
       "      <td>352.0</td>\n",
       "    </tr>\n",
       "  </tbody>\n",
       "</table>\n",
       "</div>"
      ],
      "text/plain": [
       "          time    lat     lon     depth     M  t_azimuth  t_plunge  \\\n",
       "0  2191.062424 -29.25 -176.96   47800.0  7.25      283.0     283.0   \n",
       "1  2195.105378 -13.42  -75.14   85400.0  5.65      238.0     238.0   \n",
       "2  2196.880846  51.45  159.50   15000.0  6.13      315.0     315.0   \n",
       "3  2199.996297 -15.97  167.81  173700.0  6.31      153.0     153.0   \n",
       "4  2203.562094  66.33  -16.29   15000.0  6.28       82.0      82.0   \n",
       "\n",
       "    p_azimuth  p_plunge  \n",
       "0       110.0     110.0  \n",
       "1        20.0      20.0  \n",
       "2       126.0     126.0  \n",
       "3       329.0     329.0  \n",
       "4       352.0     352.0  "
      ]
     },
     "execution_count": 4,
     "metadata": {},
     "output_type": "execute_result"
    }
   ],
   "source": [
    "df = pd.read_csv(\"data/gcmt.csv\",sep=',', index_col=False)\n",
    "df.head()"
   ]
  },
  {
   "cell_type": "code",
   "execution_count": 5,
   "metadata": {},
   "outputs": [
    {
     "data": {
      "text/plain": [
       "1970-01-01T05:10:27.967122Z"
      ]
     },
     "execution_count": 5,
     "metadata": {},
     "output_type": "execute_result"
    }
   ],
   "source": [
    "obspy.core.utcdatetime.UTCDateTime(loc.time.matplotlib_date)"
   ]
  },
  {
   "cell_type": "markdown",
   "metadata": {},
   "source": []
  }
 ],
 "metadata": {
  "kernelspec": {
   "display_name": "grGIS_seismicity",
   "language": "python",
   "name": "python3"
  },
  "language_info": {
   "codemirror_mode": {
    "name": "ipython",
    "version": 3
   },
   "file_extension": ".py",
   "mimetype": "text/x-python",
   "name": "python",
   "nbconvert_exporter": "python",
   "pygments_lexer": "ipython3",
   "version": "3.10.12"
  },
  "orig_nbformat": 4
 },
 "nbformat": 4,
 "nbformat_minor": 2
}
